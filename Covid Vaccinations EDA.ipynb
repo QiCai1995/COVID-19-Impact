{
 "cells": [
  {
   "cell_type": "markdown",
   "metadata": {},
   "source": [
    "### covid-19 Vaccinations EDA"
   ]
  },
  {
   "cell_type": "code",
   "execution_count": 21,
   "metadata": {},
   "outputs": [],
   "source": [
    "# import libraries\n",
    "import numpy as np\n",
    "import pandas as pd\n",
    "import matplotlib.pyplot as plt\n",
    "import seaborn as sns\n",
    "from scipy.stats import pearsonr"
   ]
  },
  {
   "cell_type": "markdown",
   "metadata": {},
   "source": [
    "Read the dataset and perform data cleaning"
   ]
  },
  {
   "cell_type": "code",
   "execution_count": 3,
   "metadata": {},
   "outputs": [],
   "source": [
    "df = pd.read_csv('data/CovidVaccinations.csv')"
   ]
  },
  {
   "cell_type": "code",
   "execution_count": 3,
   "metadata": {},
   "outputs": [
    {
     "data": {
      "text/html": [
       "<div>\n",
       "<style scoped>\n",
       "    .dataframe tbody tr th:only-of-type {\n",
       "        vertical-align: middle;\n",
       "    }\n",
       "\n",
       "    .dataframe tbody tr th {\n",
       "        vertical-align: top;\n",
       "    }\n",
       "\n",
       "    .dataframe thead th {\n",
       "        text-align: right;\n",
       "    }\n",
       "</style>\n",
       "<table border=\"1\" class=\"dataframe\">\n",
       "  <thead>\n",
       "    <tr style=\"text-align: right;\">\n",
       "      <th></th>\n",
       "      <th>iso_code</th>\n",
       "      <th>continent</th>\n",
       "      <th>location</th>\n",
       "      <th>date</th>\n",
       "      <th>total_tests</th>\n",
       "      <th>new_tests</th>\n",
       "      <th>total_tests_per_thousand</th>\n",
       "      <th>new_tests_per_thousand</th>\n",
       "      <th>new_tests_smoothed</th>\n",
       "      <th>new_tests_smoothed_per_thousand</th>\n",
       "      <th>...</th>\n",
       "      <th>female_smokers</th>\n",
       "      <th>male_smokers</th>\n",
       "      <th>handwashing_facilities</th>\n",
       "      <th>hospital_beds_per_thousand</th>\n",
       "      <th>life_expectancy</th>\n",
       "      <th>human_development_index</th>\n",
       "      <th>excess_mortality_cumulative_absolute</th>\n",
       "      <th>excess_mortality_cumulative</th>\n",
       "      <th>excess_mortality</th>\n",
       "      <th>excess_mortality_cumulative_per_million</th>\n",
       "    </tr>\n",
       "  </thead>\n",
       "  <tbody>\n",
       "    <tr>\n",
       "      <th>0</th>\n",
       "      <td>AFG</td>\n",
       "      <td>Asia</td>\n",
       "      <td>Afghanistan</td>\n",
       "      <td>1/3/2020</td>\n",
       "      <td>NaN</td>\n",
       "      <td>NaN</td>\n",
       "      <td>NaN</td>\n",
       "      <td>NaN</td>\n",
       "      <td>NaN</td>\n",
       "      <td>NaN</td>\n",
       "      <td>...</td>\n",
       "      <td>NaN</td>\n",
       "      <td>NaN</td>\n",
       "      <td>37.746</td>\n",
       "      <td>0.5</td>\n",
       "      <td>64.83</td>\n",
       "      <td>0.511</td>\n",
       "      <td>NaN</td>\n",
       "      <td>NaN</td>\n",
       "      <td>NaN</td>\n",
       "      <td>NaN</td>\n",
       "    </tr>\n",
       "    <tr>\n",
       "      <th>1</th>\n",
       "      <td>AFG</td>\n",
       "      <td>Asia</td>\n",
       "      <td>Afghanistan</td>\n",
       "      <td>1/4/2020</td>\n",
       "      <td>NaN</td>\n",
       "      <td>NaN</td>\n",
       "      <td>NaN</td>\n",
       "      <td>NaN</td>\n",
       "      <td>NaN</td>\n",
       "      <td>NaN</td>\n",
       "      <td>...</td>\n",
       "      <td>NaN</td>\n",
       "      <td>NaN</td>\n",
       "      <td>37.746</td>\n",
       "      <td>0.5</td>\n",
       "      <td>64.83</td>\n",
       "      <td>0.511</td>\n",
       "      <td>NaN</td>\n",
       "      <td>NaN</td>\n",
       "      <td>NaN</td>\n",
       "      <td>NaN</td>\n",
       "    </tr>\n",
       "    <tr>\n",
       "      <th>2</th>\n",
       "      <td>AFG</td>\n",
       "      <td>Asia</td>\n",
       "      <td>Afghanistan</td>\n",
       "      <td>1/5/2020</td>\n",
       "      <td>NaN</td>\n",
       "      <td>NaN</td>\n",
       "      <td>NaN</td>\n",
       "      <td>NaN</td>\n",
       "      <td>NaN</td>\n",
       "      <td>NaN</td>\n",
       "      <td>...</td>\n",
       "      <td>NaN</td>\n",
       "      <td>NaN</td>\n",
       "      <td>37.746</td>\n",
       "      <td>0.5</td>\n",
       "      <td>64.83</td>\n",
       "      <td>0.511</td>\n",
       "      <td>NaN</td>\n",
       "      <td>NaN</td>\n",
       "      <td>NaN</td>\n",
       "      <td>NaN</td>\n",
       "    </tr>\n",
       "    <tr>\n",
       "      <th>3</th>\n",
       "      <td>AFG</td>\n",
       "      <td>Asia</td>\n",
       "      <td>Afghanistan</td>\n",
       "      <td>1/6/2020</td>\n",
       "      <td>NaN</td>\n",
       "      <td>NaN</td>\n",
       "      <td>NaN</td>\n",
       "      <td>NaN</td>\n",
       "      <td>NaN</td>\n",
       "      <td>NaN</td>\n",
       "      <td>...</td>\n",
       "      <td>NaN</td>\n",
       "      <td>NaN</td>\n",
       "      <td>37.746</td>\n",
       "      <td>0.5</td>\n",
       "      <td>64.83</td>\n",
       "      <td>0.511</td>\n",
       "      <td>NaN</td>\n",
       "      <td>NaN</td>\n",
       "      <td>NaN</td>\n",
       "      <td>NaN</td>\n",
       "    </tr>\n",
       "    <tr>\n",
       "      <th>4</th>\n",
       "      <td>AFG</td>\n",
       "      <td>Asia</td>\n",
       "      <td>Afghanistan</td>\n",
       "      <td>1/7/2020</td>\n",
       "      <td>NaN</td>\n",
       "      <td>NaN</td>\n",
       "      <td>NaN</td>\n",
       "      <td>NaN</td>\n",
       "      <td>NaN</td>\n",
       "      <td>NaN</td>\n",
       "      <td>...</td>\n",
       "      <td>NaN</td>\n",
       "      <td>NaN</td>\n",
       "      <td>37.746</td>\n",
       "      <td>0.5</td>\n",
       "      <td>64.83</td>\n",
       "      <td>0.511</td>\n",
       "      <td>NaN</td>\n",
       "      <td>NaN</td>\n",
       "      <td>NaN</td>\n",
       "      <td>NaN</td>\n",
       "    </tr>\n",
       "    <tr>\n",
       "      <th>5</th>\n",
       "      <td>AFG</td>\n",
       "      <td>Asia</td>\n",
       "      <td>Afghanistan</td>\n",
       "      <td>1/8/2020</td>\n",
       "      <td>NaN</td>\n",
       "      <td>NaN</td>\n",
       "      <td>NaN</td>\n",
       "      <td>NaN</td>\n",
       "      <td>NaN</td>\n",
       "      <td>NaN</td>\n",
       "      <td>...</td>\n",
       "      <td>NaN</td>\n",
       "      <td>NaN</td>\n",
       "      <td>37.746</td>\n",
       "      <td>0.5</td>\n",
       "      <td>64.83</td>\n",
       "      <td>0.511</td>\n",
       "      <td>NaN</td>\n",
       "      <td>NaN</td>\n",
       "      <td>NaN</td>\n",
       "      <td>NaN</td>\n",
       "    </tr>\n",
       "    <tr>\n",
       "      <th>6</th>\n",
       "      <td>AFG</td>\n",
       "      <td>Asia</td>\n",
       "      <td>Afghanistan</td>\n",
       "      <td>1/9/2020</td>\n",
       "      <td>NaN</td>\n",
       "      <td>NaN</td>\n",
       "      <td>NaN</td>\n",
       "      <td>NaN</td>\n",
       "      <td>NaN</td>\n",
       "      <td>NaN</td>\n",
       "      <td>...</td>\n",
       "      <td>NaN</td>\n",
       "      <td>NaN</td>\n",
       "      <td>37.746</td>\n",
       "      <td>0.5</td>\n",
       "      <td>64.83</td>\n",
       "      <td>0.511</td>\n",
       "      <td>NaN</td>\n",
       "      <td>NaN</td>\n",
       "      <td>NaN</td>\n",
       "      <td>NaN</td>\n",
       "    </tr>\n",
       "    <tr>\n",
       "      <th>7</th>\n",
       "      <td>AFG</td>\n",
       "      <td>Asia</td>\n",
       "      <td>Afghanistan</td>\n",
       "      <td>1/10/2020</td>\n",
       "      <td>NaN</td>\n",
       "      <td>NaN</td>\n",
       "      <td>NaN</td>\n",
       "      <td>NaN</td>\n",
       "      <td>NaN</td>\n",
       "      <td>NaN</td>\n",
       "      <td>...</td>\n",
       "      <td>NaN</td>\n",
       "      <td>NaN</td>\n",
       "      <td>37.746</td>\n",
       "      <td>0.5</td>\n",
       "      <td>64.83</td>\n",
       "      <td>0.511</td>\n",
       "      <td>NaN</td>\n",
       "      <td>NaN</td>\n",
       "      <td>NaN</td>\n",
       "      <td>NaN</td>\n",
       "    </tr>\n",
       "    <tr>\n",
       "      <th>8</th>\n",
       "      <td>AFG</td>\n",
       "      <td>Asia</td>\n",
       "      <td>Afghanistan</td>\n",
       "      <td>1/11/2020</td>\n",
       "      <td>NaN</td>\n",
       "      <td>NaN</td>\n",
       "      <td>NaN</td>\n",
       "      <td>NaN</td>\n",
       "      <td>NaN</td>\n",
       "      <td>NaN</td>\n",
       "      <td>...</td>\n",
       "      <td>NaN</td>\n",
       "      <td>NaN</td>\n",
       "      <td>37.746</td>\n",
       "      <td>0.5</td>\n",
       "      <td>64.83</td>\n",
       "      <td>0.511</td>\n",
       "      <td>NaN</td>\n",
       "      <td>NaN</td>\n",
       "      <td>NaN</td>\n",
       "      <td>NaN</td>\n",
       "    </tr>\n",
       "    <tr>\n",
       "      <th>9</th>\n",
       "      <td>AFG</td>\n",
       "      <td>Asia</td>\n",
       "      <td>Afghanistan</td>\n",
       "      <td>1/12/2020</td>\n",
       "      <td>NaN</td>\n",
       "      <td>NaN</td>\n",
       "      <td>NaN</td>\n",
       "      <td>NaN</td>\n",
       "      <td>NaN</td>\n",
       "      <td>NaN</td>\n",
       "      <td>...</td>\n",
       "      <td>NaN</td>\n",
       "      <td>NaN</td>\n",
       "      <td>37.746</td>\n",
       "      <td>0.5</td>\n",
       "      <td>64.83</td>\n",
       "      <td>0.511</td>\n",
       "      <td>NaN</td>\n",
       "      <td>NaN</td>\n",
       "      <td>NaN</td>\n",
       "      <td>NaN</td>\n",
       "    </tr>\n",
       "  </tbody>\n",
       "</table>\n",
       "<p>10 rows × 45 columns</p>\n",
       "</div>"
      ],
      "text/plain": [
       "  iso_code continent     location       date  total_tests  new_tests  \\\n",
       "0      AFG      Asia  Afghanistan   1/3/2020          NaN        NaN   \n",
       "1      AFG      Asia  Afghanistan   1/4/2020          NaN        NaN   \n",
       "2      AFG      Asia  Afghanistan   1/5/2020          NaN        NaN   \n",
       "3      AFG      Asia  Afghanistan   1/6/2020          NaN        NaN   \n",
       "4      AFG      Asia  Afghanistan   1/7/2020          NaN        NaN   \n",
       "5      AFG      Asia  Afghanistan   1/8/2020          NaN        NaN   \n",
       "6      AFG      Asia  Afghanistan   1/9/2020          NaN        NaN   \n",
       "7      AFG      Asia  Afghanistan  1/10/2020          NaN        NaN   \n",
       "8      AFG      Asia  Afghanistan  1/11/2020          NaN        NaN   \n",
       "9      AFG      Asia  Afghanistan  1/12/2020          NaN        NaN   \n",
       "\n",
       "   total_tests_per_thousand  new_tests_per_thousand  new_tests_smoothed  \\\n",
       "0                       NaN                     NaN                 NaN   \n",
       "1                       NaN                     NaN                 NaN   \n",
       "2                       NaN                     NaN                 NaN   \n",
       "3                       NaN                     NaN                 NaN   \n",
       "4                       NaN                     NaN                 NaN   \n",
       "5                       NaN                     NaN                 NaN   \n",
       "6                       NaN                     NaN                 NaN   \n",
       "7                       NaN                     NaN                 NaN   \n",
       "8                       NaN                     NaN                 NaN   \n",
       "9                       NaN                     NaN                 NaN   \n",
       "\n",
       "   new_tests_smoothed_per_thousand  ...  female_smokers  male_smokers  \\\n",
       "0                              NaN  ...             NaN           NaN   \n",
       "1                              NaN  ...             NaN           NaN   \n",
       "2                              NaN  ...             NaN           NaN   \n",
       "3                              NaN  ...             NaN           NaN   \n",
       "4                              NaN  ...             NaN           NaN   \n",
       "5                              NaN  ...             NaN           NaN   \n",
       "6                              NaN  ...             NaN           NaN   \n",
       "7                              NaN  ...             NaN           NaN   \n",
       "8                              NaN  ...             NaN           NaN   \n",
       "9                              NaN  ...             NaN           NaN   \n",
       "\n",
       "  handwashing_facilities  hospital_beds_per_thousand  life_expectancy  \\\n",
       "0                 37.746                         0.5            64.83   \n",
       "1                 37.746                         0.5            64.83   \n",
       "2                 37.746                         0.5            64.83   \n",
       "3                 37.746                         0.5            64.83   \n",
       "4                 37.746                         0.5            64.83   \n",
       "5                 37.746                         0.5            64.83   \n",
       "6                 37.746                         0.5            64.83   \n",
       "7                 37.746                         0.5            64.83   \n",
       "8                 37.746                         0.5            64.83   \n",
       "9                 37.746                         0.5            64.83   \n",
       "\n",
       "   human_development_index  excess_mortality_cumulative_absolute  \\\n",
       "0                    0.511                                   NaN   \n",
       "1                    0.511                                   NaN   \n",
       "2                    0.511                                   NaN   \n",
       "3                    0.511                                   NaN   \n",
       "4                    0.511                                   NaN   \n",
       "5                    0.511                                   NaN   \n",
       "6                    0.511                                   NaN   \n",
       "7                    0.511                                   NaN   \n",
       "8                    0.511                                   NaN   \n",
       "9                    0.511                                   NaN   \n",
       "\n",
       "   excess_mortality_cumulative  excess_mortality  \\\n",
       "0                          NaN               NaN   \n",
       "1                          NaN               NaN   \n",
       "2                          NaN               NaN   \n",
       "3                          NaN               NaN   \n",
       "4                          NaN               NaN   \n",
       "5                          NaN               NaN   \n",
       "6                          NaN               NaN   \n",
       "7                          NaN               NaN   \n",
       "8                          NaN               NaN   \n",
       "9                          NaN               NaN   \n",
       "\n",
       "   excess_mortality_cumulative_per_million  \n",
       "0                                      NaN  \n",
       "1                                      NaN  \n",
       "2                                      NaN  \n",
       "3                                      NaN  \n",
       "4                                      NaN  \n",
       "5                                      NaN  \n",
       "6                                      NaN  \n",
       "7                                      NaN  \n",
       "8                                      NaN  \n",
       "9                                      NaN  \n",
       "\n",
       "[10 rows x 45 columns]"
      ]
     },
     "execution_count": 3,
     "metadata": {},
     "output_type": "execute_result"
    }
   ],
   "source": [
    "df.head(10)"
   ]
  },
  {
   "cell_type": "code",
   "execution_count": 9,
   "metadata": {},
   "outputs": [],
   "source": [
    "pd.set_option('display.max_columns', 42)\n",
    "pd.set_option('display.max_rows', None) "
   ]
  },
  {
   "cell_type": "code",
   "execution_count": 10,
   "metadata": {},
   "outputs": [
    {
     "name": "stdout",
     "output_type": "stream",
     "text": [
      "<class 'pandas.core.frame.DataFrame'>\n",
      "RangeIndex: 309799 entries, 0 to 309798\n",
      "Data columns (total 45 columns):\n",
      " #   Column                                      Non-Null Count   Dtype  \n",
      "---  ------                                      --------------   -----  \n",
      " 0   iso_code                                    309799 non-null  object \n",
      " 1   continent                                   295057 non-null  object \n",
      " 2   location                                    309799 non-null  object \n",
      " 3   date                                        309799 non-null  object \n",
      " 4   total_tests                                 79387 non-null   float64\n",
      " 5   new_tests                                   75403 non-null   float64\n",
      " 6   total_tests_per_thousand                    79387 non-null   float64\n",
      " 7   new_tests_per_thousand                      75403 non-null   float64\n",
      " 8   new_tests_smoothed                          103965 non-null  float64\n",
      " 9   new_tests_smoothed_per_thousand             103965 non-null  float64\n",
      " 10  positive_rate                               95927 non-null   float64\n",
      " 11  tests_per_case                              94348 non-null   float64\n",
      " 12  tests_units                                 106788 non-null  object \n",
      " 13  total_vaccinations                          74851 non-null   float64\n",
      " 14  people_vaccinated                           71700 non-null   float64\n",
      " 15  people_fully_vaccinated                     69469 non-null   float64\n",
      " 16  total_boosters                              43486 non-null   float64\n",
      " 17  new_vaccinations                            61610 non-null   float64\n",
      " 18  new_vaccinations_smoothed                   167342 non-null  float64\n",
      " 19  total_vaccinations_per_hundred              74851 non-null   float64\n",
      " 20  people_vaccinated_per_hundred               71700 non-null   float64\n",
      " 21  people_fully_vaccinated_per_hundred         69469 non-null   float64\n",
      " 22  total_boosters_per_hundred                  43486 non-null   float64\n",
      " 23  new_vaccinations_smoothed_per_million       167342 non-null  float64\n",
      " 24  new_people_vaccinated_smoothed              167313 non-null  float64\n",
      " 25  new_people_vaccinated_smoothed_per_hundred  167313 non-null  float64\n",
      " 26  stringency_index                            197650 non-null  float64\n",
      " 27  population_density                          262876 non-null  float64\n",
      " 28  median_age                                  244491 non-null  float64\n",
      " 29  aged_65_older                               235948 non-null  float64\n",
      " 30  aged_70_older                               242037 non-null  float64\n",
      " 31  gdp_per_capita                              239617 non-null  float64\n",
      " 32  extreme_poverty                             154358 non-null  float64\n",
      " 33  cardiovasc_death_rate                       240041 non-null  float64\n",
      " 34  diabetes_prevalence                         252289 non-null  float64\n",
      " 35  female_smokers                              180091 non-null  float64\n",
      " 36  male_smokers                                177639 non-null  float64\n",
      " 37  handwashing_facilities                      117538 non-null  float64\n",
      " 38  hospital_beds_per_thousand                  211915 non-null  float64\n",
      " 39  life_expectancy                             284883 non-null  float64\n",
      " 40  human_development_index                     232699 non-null  float64\n",
      " 41  excess_mortality_cumulative_absolute        10669 non-null   float64\n",
      " 42  excess_mortality_cumulative                 10669 non-null   float64\n",
      " 43  excess_mortality                            10669 non-null   float64\n",
      " 44  excess_mortality_cumulative_per_million     10669 non-null   float64\n",
      "dtypes: float64(40), object(5)\n",
      "memory usage: 106.4+ MB\n"
     ]
    }
   ],
   "source": [
    "df.info()"
   ]
  },
  {
   "cell_type": "code",
   "execution_count": 11,
   "metadata": {},
   "outputs": [
    {
     "data": {
      "text/plain": [
       "Index(['iso_code', 'continent', 'location', 'date', 'total_tests', 'new_tests',\n",
       "       'total_tests_per_thousand', 'new_tests_per_thousand',\n",
       "       'new_tests_smoothed', 'new_tests_smoothed_per_thousand',\n",
       "       'positive_rate', 'tests_per_case', 'tests_units', 'total_vaccinations',\n",
       "       'people_vaccinated', 'people_fully_vaccinated', 'total_boosters',\n",
       "       'new_vaccinations', 'new_vaccinations_smoothed',\n",
       "       'total_vaccinations_per_hundred', 'people_vaccinated_per_hundred',\n",
       "       'people_fully_vaccinated_per_hundred', 'total_boosters_per_hundred',\n",
       "       'new_vaccinations_smoothed_per_million',\n",
       "       'new_people_vaccinated_smoothed',\n",
       "       'new_people_vaccinated_smoothed_per_hundred', 'stringency_index',\n",
       "       'population_density', 'median_age', 'aged_65_older', 'aged_70_older',\n",
       "       'gdp_per_capita', 'extreme_poverty', 'cardiovasc_death_rate',\n",
       "       'diabetes_prevalence', 'female_smokers', 'male_smokers',\n",
       "       'handwashing_facilities', 'hospital_beds_per_thousand',\n",
       "       'life_expectancy', 'human_development_index',\n",
       "       'excess_mortality_cumulative_absolute', 'excess_mortality_cumulative',\n",
       "       'excess_mortality', 'excess_mortality_cumulative_per_million'],\n",
       "      dtype='object')"
      ]
     },
     "execution_count": 11,
     "metadata": {},
     "output_type": "execute_result"
    }
   ],
   "source": [
    "df.columns"
   ]
  },
  {
   "cell_type": "markdown",
   "metadata": {},
   "source": [
    "EDA Questions:\n",
    "1. Analyze changes in COVID-19 testing, vaccination, and mortality rates over different time periods.\n",
    "2. Investigate COVID-19 statistics across different 'locations' and 'continents'.\n",
    "3. Socioeconomic Impact: Correlate COVID-19 statistics with 'extreme_poverty', 'gdp_per_capita', and other socioeconomic indicators to study the pandemic's impact on different societies"
   ]
  },
  {
   "cell_type": "code",
   "execution_count": 14,
   "metadata": {},
   "outputs": [
    {
     "data": {
      "text/plain": [
       "0.743746751926249"
      ]
     },
     "execution_count": 14,
     "metadata": {},
     "output_type": "execute_result"
    }
   ],
   "source": [
    "# 1. Analyze total_tests over time\n",
    "df['total_tests'].isnull().sum()/len(df['total_tests'])"
   ]
  },
  {
   "cell_type": "code",
   "execution_count": 15,
   "metadata": {},
   "outputs": [
    {
     "data": {
      "text/plain": [
       "count    7.938700e+04\n",
       "mean     2.110457e+07\n",
       "std      8.409869e+07\n",
       "min      0.000000e+00\n",
       "25%      3.646540e+05\n",
       "50%      2.067330e+06\n",
       "75%      1.024845e+07\n",
       "max      9.214000e+09\n",
       "Name: total_tests, dtype: float64"
      ]
     },
     "execution_count": 15,
     "metadata": {},
     "output_type": "execute_result"
    }
   ],
   "source": [
    "df['total_tests'].describe()"
   ]
  },
  {
   "cell_type": "code",
   "execution_count": 18,
   "metadata": {},
   "outputs": [
    {
     "data": {
      "image/png": "[encoded data removed]",
      "text/plain": [
       "<Figure size 432x288 with 1 Axes>"
      ]
     },
     "metadata": {
      "needs_background": "light"
     },
     "output_type": "display_data"
    }
   ],
   "source": [
    "sns.histplot(df['total_tests'], kde = True, color = 'blue')\n",
    "plt.show()"
   ]
  },
  {
   "cell_type": "code",
   "execution_count": 4,
   "metadata": {},
   "outputs": [
    {
     "data": {
      "image/png": "[encoded data removed]",
      "text/plain": [
       "<Figure size 720x432 with 1 Axes>"
      ]
     },
     "metadata": {
      "needs_background": "light"
     },
     "output_type": "display_data"
    }
   ],
   "source": [
    "# Plot total tests over time!\n",
    "# Convert the 'date' column to datetime\n",
    "df['date'] = pd.to_datetime(df['date'])\n",
    "\n",
    "# Filter out rows with missing 'total_tests' values\n",
    "df_filtered = df[df['total_tests'].notnull()]\n",
    "\n",
    "# Create the plot\n",
    "plt.figure(figsize=(10, 6))  # Adjust figure size if needed\n",
    "plt.plot(df_filtered['date'], df_filtered['total_tests'], marker='o')\n",
    "\n",
    "# Customize the plot\n",
    "plt.title('Total Tests Over Time')\n",
    "plt.xlabel('Date')\n",
    "plt.ylabel('Total Tests')\n",
    "plt.grid(True)\n",
    "\n",
    "# Show the plot\n",
    "plt.tight_layout()\n",
    "plt.show()"
   ]
  },
  {
   "cell_type": "markdown",
   "metadata": {},
   "source": [
    "The plot shows that as the time goes by from January 2020 to July 2022, the total tests increased linearly."
   ]
  },
  {
   "cell_type": "markdown",
   "metadata": {},
   "source": [
    "Now we can look into how people fully vaccinated varied by continent and location."
   ]
  },
  {
   "cell_type": "code",
   "execution_count": 5,
   "metadata": {},
   "outputs": [
    {
     "data": {
      "image/png": "[encoded data removed]",
      "text/plain": [
       "<Figure size 720x432 with 1 Axes>"
      ]
     },
     "metadata": {
      "needs_background": "light"
     },
     "output_type": "display_data"
    }
   ],
   "source": [
    "# By continent\n",
    "vaccinated_by_continent = df.groupby('continent')['people_fully_vaccinated'].sum()\n",
    "\n",
    "# Create the bar plot\n",
    "plt.figure(figsize=(10, 6))  # Adjust figure size if needed\n",
    "vaccinated_by_continent.plot(kind='bar')\n",
    "\n",
    "# Customize the plot\n",
    "plt.title('People Fully Vaccinated by Continent')\n",
    "plt.xlabel('Continent')\n",
    "plt.ylabel('People Fully Vaccinated')\n",
    "plt.xticks(rotation=45)  # Rotate x-axis labels for better readability\n",
    "plt.grid(True)\n",
    "\n",
    "# Show the plot\n",
    "plt.tight_layout()\n",
    "plt.show()\n"
   ]
  },
  {
   "cell_type": "markdown",
   "metadata": {},
   "source": [
    "Asia has the highest number of people fully vaccinated"
   ]
  },
  {
   "cell_type": "markdown",
   "metadata": {},
   "source": [
    "We can take a look at locations."
   ]
  },
  {
   "cell_type": "code",
   "execution_count": 14,
   "metadata": {},
   "outputs": [
    {
     "data": {
      "text/plain": [
       "Argentina      1231\n",
       "Italy          1230\n",
       "High income    1230\n",
       "Germany        1230\n",
       "Bangladesh     1230\n",
       "World          1230\n",
       "Czechia        1230\n",
       "Austria        1230\n",
       "Europe         1230\n",
       "Lithuania      1230\n",
       "Name: location, dtype: int64"
      ]
     },
     "execution_count": 14,
     "metadata": {},
     "output_type": "execute_result"
    }
   ],
   "source": [
    "df['location'].value_counts().head(10)"
   ]
  },
  {
   "cell_type": "code",
   "execution_count": 18,
   "metadata": {},
   "outputs": [
    {
     "data": {
      "image/png": "[encoded data removed]",
      "text/plain": [
       "<Figure size 720x432 with 1 Axes>"
      ]
     },
     "metadata": {
      "needs_background": "light"
     },
     "output_type": "display_data"
    }
   ],
   "source": [
    "# By continent\n",
    "vaccinated_by_location = df.groupby('location')['people_fully_vaccinated'].sum()\n",
    "\n",
    "# Top 20 locations\n",
    "top_20_locations = vaccinated_by_location.nlargest(20) # use nlargest to pull out the top 20 locations\n",
    "\n",
    "# Create the bar plot\n",
    "plt.figure(figsize=(10, 6))  # Adjust figure size if needed\n",
    "top_20_locations.plot(kind='bar')\n",
    "\n",
    "# Customize the plot\n",
    "plt.title('People Fully Vaccinated by Location')\n",
    "plt.xlabel('Location')\n",
    "plt.ylabel('People Fully Vaccinated')\n",
    "plt.xticks(rotation=45)  # Rotate x-axis labels for better readability\n",
    "plt.grid(True)\n",
    "\n",
    "# Show the plot\n",
    "plt.tight_layout()\n",
    "plt.show()"
   ]
  },
  {
   "cell_type": "markdown",
   "metadata": {},
   "source": [
    "It looks like \"World\", \"Asia\", \"Upper middle income\", \"Lower middle income\", \"High income\", \"India\", \"Europe\", \"North America\"... are the top countries with full vaccinations.\n",
    "Not exactly sure what locations \"World\" refers to, same with the other ones.\n",
    "Countries that are on top are: India, North America, South America, United States, Brazil, China, Japan."
   ]
  },
  {
   "cell_type": "markdown",
   "metadata": {},
   "source": [
    "Now we can take a look at any correlations between COVID statistics and poverty levels.\n",
    "This time we can use positive rate and gdp per capital to see if there is correlation first using Pearson's correlation coefficient."
   ]
  },
  {
   "cell_type": "code",
   "execution_count": 20,
   "metadata": {},
   "outputs": [],
   "source": [
    "cleaned_df = df.dropna()"
   ]
  },
  {
   "cell_type": "code",
   "execution_count": 23,
   "metadata": {},
   "outputs": [
    {
     "name": "stdout",
     "output_type": "stream",
     "text": [
      "Pearson's Correlation Coefficient: -0.024500916716623737\n",
      "P-value: 0.8525868273239032\n"
     ]
    }
   ],
   "source": [
    "x = cleaned_df['positive_rate']\n",
    "y = cleaned_df['gdp_per_capita']\n",
    "\n",
    "correlation_coefficient, p_value = pearsonr(x, y)\n",
    "\n",
    "print(\"Pearson's Correlation Coefficient:\", correlation_coefficient)\n",
    "print(\"P-value:\", p_value)"
   ]
  },
  {
   "cell_type": "markdown",
   "metadata": {},
   "source": [
    "This result indicates that there is no relationship between covid positive rate and gdp per capital with pearson's correlation coefficient being close to 0 and p-value > 0.05 Fail to reject null hypothesis. Therefore no significant relationship between the two."
   ]
  },
  {
   "cell_type": "code",
   "execution_count": null,
   "metadata": {},
   "outputs": [],
   "source": []
  }
 ],
 "metadata": {
  "kernelspec": {
   "display_name": "learn-env",
   "language": "python",
   "name": "python3"
  },
  "language_info": {
   "codemirror_mode": {
    "name": "ipython",
    "version": 3
   },
   "file_extension": ".py",
   "mimetype": "text/x-python",
   "name": "python",
   "nbconvert_exporter": "python",
   "pygments_lexer": "ipython3",
   "version": "3.8.5"
  },
  "orig_nbformat": 4
 },
 "nbformat": 4,
 "nbformat_minor": 2
}
